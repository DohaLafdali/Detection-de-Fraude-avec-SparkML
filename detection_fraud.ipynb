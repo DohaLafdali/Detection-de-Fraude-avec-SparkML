{
 "cells": [
  {
   "cell_type": "code",
   "execution_count": 2,
   "id": "bd989b21",
   "metadata": {
    "scrolled": true
   },
   "outputs": [
    {
     "name": "stderr",
     "output_type": "stream",
     "text": [
      "                                                                                \r"
     ]
    }
   ],
   "source": [
    "from pyspark.sql import SparkSession\n",
    "\n",
    "# Créer une session Spark\n",
    "spark = SparkSession.builder.appName(\"Detection du fraude\").getOrCreate()\n",
    "\n",
    "# Lire le fichier CSV en tant que DataFrame\n",
    "data_detection = spark.read.csv(\"creditcarddata.csv\", header=True, inferSchema=True)\n"
   ]
  },
  {
   "cell_type": "code",
   "execution_count": 3,
   "id": "43e14ed8",
   "metadata": {
    "scrolled": true
   },
   "outputs": [
    {
     "name": "stdout",
     "output_type": "stream",
     "text": [
      "['step', 'type', 'amount', 'nameOrig', 'oldbalanceOrg', 'newbalanceOrig', 'nameDest', 'oldbalanceDest', 'newbalanceDest', 'isFraud', 'isFlaggedFraud']\n"
     ]
    }
   ],
   "source": [
    "# Afficher les noms de colonnes\n",
    "print(data_detection.columns)"
   ]
  },
  {
   "cell_type": "markdown",
   "id": "bfe31ef9",
   "metadata": {},
   "source": [
    "    \"step\" : Le temps écoulé en heures entre la transaction la plus ancienne et la transaction actuelle.\n",
    "    \"type\" : Le type de transaction, soit 'CASH-IN', 'CASH-OUT', 'DEBIT', 'PAYMENT' ou 'TRANSFER'.\n",
    "    \"amount\" : Le montant de la transaction.\n",
    "    \"nameOrig\" : Le nom du compte d'origine.\n",
    "    \"oldbalanceOrg\" : Le solde initial du compte d'origine avant la transaction.\n",
    "    \"newbalanceOrig\" : Le solde du compte d'origine après la transaction.\n",
    "    \"nameDest\" : Le nom du compte de destination.\n",
    "    \"oldbalanceDest\" : Le solde initial du compte de destination avant la transaction.\n",
    "    \"newbalanceDest\" : Le solde du compte de destination après la transaction.\n",
    "    \"isFraud\" : Indique si la transaction est frauduleuse (1) ou non (0).\n",
    "    \"isFlaggedFraud\" : Indique si la transaction a été signalée comme frauduleuse (1) ou non (0). Une transaction est signalée comme frauduleuse si elle satisfait à certaines conditions, notamment si elle est de type \"TRANSFER\" et que le montant dépasse une certaine valeur."
   ]
  },
  {
   "cell_type": "code",
   "execution_count": 4,
   "id": "acb62908",
   "metadata": {},
   "outputs": [
    {
     "name": "stderr",
     "output_type": "stream",
     "text": [
      "[Stage 4:============================================>              (3 + 1) / 4]\r"
     ]
    },
    {
     "name": "stdout",
     "output_type": "stream",
     "text": [
      "Shape: (6362620, 11)\n"
     ]
    },
    {
     "name": "stderr",
     "output_type": "stream",
     "text": [
      "\r",
      "                                                                                \r"
     ]
    }
   ],
   "source": [
    "num_rows = data_detection.count()\n",
    "num_cols = len(data_detection.columns)\n",
    "print(\"Shape: ({}, {})\".format(num_rows, num_cols))\n"
   ]
  },
  {
   "cell_type": "code",
   "execution_count": 5,
   "id": "07135bbb",
   "metadata": {},
   "outputs": [
    {
     "name": "stdout",
     "output_type": "stream",
     "text": [
      "+----+--------+---------+-----------+-------------+--------------+-----------+--------------+--------------+-------+--------------+\n",
      "|step|    type|   amount|   nameOrig|oldbalanceOrg|newbalanceOrig|   nameDest|oldbalanceDest|newbalanceDest|isFraud|isFlaggedFraud|\n",
      "+----+--------+---------+-----------+-------------+--------------+-----------+--------------+--------------+-------+--------------+\n",
      "|   1| PAYMENT|  9839.64|C1231006815|     170136.0|     160296.36|M1979787155|           0.0|           0.0|      0|             0|\n",
      "|   1| PAYMENT|  1864.28|C1666544295|      21249.0|      19384.72|M2044282225|           0.0|           0.0|      0|             0|\n",
      "|   1|TRANSFER|    181.0|C1305486145|        181.0|           0.0| C553264065|           0.0|           0.0|      1|             0|\n",
      "|   1|CASH_OUT|    181.0| C840083671|        181.0|           0.0|  C38997010|       21182.0|           0.0|      1|             0|\n",
      "|   1| PAYMENT| 11668.14|C2048537720|      41554.0|      29885.86|M1230701703|           0.0|           0.0|      0|             0|\n",
      "|   1| PAYMENT|  7817.71|  C90045638|      53860.0|      46042.29| M573487274|           0.0|           0.0|      0|             0|\n",
      "|   1| PAYMENT|  7107.77| C154988899|     183195.0|     176087.23| M408069119|           0.0|           0.0|      0|             0|\n",
      "|   1| PAYMENT|  7861.64|C1912850431|    176087.23|     168225.59| M633326333|           0.0|           0.0|      0|             0|\n",
      "|   1| PAYMENT|  4024.36|C1265012928|       2671.0|           0.0|M1176932104|           0.0|           0.0|      0|             0|\n",
      "|   1|   DEBIT|  5337.77| C712410124|      41720.0|      36382.23| C195600860|       41898.0|      40348.79|      0|             0|\n",
      "|   1|   DEBIT|  9644.94|C1900366749|       4465.0|           0.0| C997608398|       10845.0|     157982.12|      0|             0|\n",
      "|   1| PAYMENT|  3099.97| C249177573|      20771.0|      17671.03|M2096539129|           0.0|           0.0|      0|             0|\n",
      "|   1| PAYMENT|  2560.74|C1648232591|       5070.0|       2509.26| M972865270|           0.0|           0.0|      0|             0|\n",
      "|   1| PAYMENT| 11633.76|C1716932897|      10127.0|           0.0| M801569151|           0.0|           0.0|      0|             0|\n",
      "|   1| PAYMENT|  4098.78|C1026483832|     503264.0|     499165.22|M1635378213|           0.0|           0.0|      0|             0|\n",
      "|   1|CASH_OUT|229133.94| C905080434|      15325.0|           0.0| C476402209|        5083.0|      51513.44|      0|             0|\n",
      "|   1| PAYMENT|  1563.82| C761750706|        450.0|           0.0|M1731217984|           0.0|           0.0|      0|             0|\n",
      "|   1| PAYMENT|  1157.86|C1237762639|      21156.0|      19998.14|M1877062907|           0.0|           0.0|      0|             0|\n",
      "|   1| PAYMENT|   671.64|C2033524545|      15123.0|      14451.36| M473053293|           0.0|           0.0|      0|             0|\n",
      "|   1|TRANSFER| 215310.3|C1670993182|        705.0|           0.0|C1100439041|       22425.0|           0.0|      0|             0|\n",
      "+----+--------+---------+-----------+-------------+--------------+-----------+--------------+--------------+-------+--------------+\n",
      "only showing top 20 rows\n",
      "\n"
     ]
    }
   ],
   "source": [
    "# Afficher les 20 premières lignes du DataFrame\n",
    "data_detection.show(20)"
   ]
  },
  {
   "cell_type": "code",
   "execution_count": 6,
   "id": "fd0e4adf",
   "metadata": {},
   "outputs": [
    {
     "name": "stderr",
     "output_type": "stream",
     "text": [
      "[Stage 8:============================================>              (3 + 1) / 4]\r"
     ]
    },
    {
     "name": "stdout",
     "output_type": "stream",
     "text": [
      "+----+----+------+--------+-------------+--------------+--------+--------------+--------------+-------+--------------+\n",
      "|step|type|amount|nameOrig|oldbalanceOrg|newbalanceOrig|nameDest|oldbalanceDest|newbalanceDest|isFraud|isFlaggedFraud|\n",
      "+----+----+------+--------+-------------+--------------+--------+--------------+--------------+-------+--------------+\n",
      "|   0|   0|     0|       0|            0|             0|       0|             0|             0|      0|             0|\n",
      "+----+----+------+--------+-------------+--------------+--------+--------------+--------------+-------+--------------+\n",
      "\n"
     ]
    },
    {
     "name": "stderr",
     "output_type": "stream",
     "text": [
      "\r",
      "                                                                                \r"
     ]
    }
   ],
   "source": [
    "from pyspark.sql.functions import isnull, sum, when\n",
    "\n",
    "# Vérifier les valeurs nulles pour chaque colonne\n",
    "data_detection.select([sum(when(isnull(c), 1).otherwise(0)).alias(c) for c in data_detection.columns]).show()\n"
   ]
  },
  {
   "cell_type": "code",
   "execution_count": 7,
   "id": "805971c9",
   "metadata": {},
   "outputs": [
    {
     "data": {
      "text/plain": [
       "[('step', 'int'),\n",
       " ('type', 'string'),\n",
       " ('amount', 'double'),\n",
       " ('nameOrig', 'string'),\n",
       " ('oldbalanceOrg', 'double'),\n",
       " ('newbalanceOrig', 'double'),\n",
       " ('nameDest', 'string'),\n",
       " ('oldbalanceDest', 'double'),\n",
       " ('newbalanceDest', 'double'),\n",
       " ('isFraud', 'int'),\n",
       " ('isFlaggedFraud', 'int')]"
      ]
     },
     "execution_count": 7,
     "metadata": {},
     "output_type": "execute_result"
    }
   ],
   "source": [
    "# Afficher les types de données des colonnes\n",
    "data_detection.dtypes"
   ]
  },
  {
   "cell_type": "code",
   "execution_count": 8,
   "id": "70bc4fca",
   "metadata": {
    "scrolled": false
   },
   "outputs": [
    {
     "name": "stderr",
     "output_type": "stream",
     "text": [
      "                                                                                \r"
     ]
    },
    {
     "name": "stdout",
     "output_type": "stream",
     "text": [
      "+-------+------------------+--------+-----------------+-----------+-----------------+------------------+-----------+------------------+------------------+--------------------+--------------------+\n",
      "|summary|              step|    type|           amount|   nameOrig|    oldbalanceOrg|    newbalanceOrig|   nameDest|    oldbalanceDest|    newbalanceDest|             isFraud|      isFlaggedFraud|\n",
      "+-------+------------------+--------+-----------------+-----------+-----------------+------------------+-----------+------------------+------------------+--------------------+--------------------+\n",
      "|  count|           6362620| 6362620|          6362620|    6362620|          6362620|           6362620|    6362620|           6362620|           6362620|             6362620|             6362620|\n",
      "|   mean|243.39724563151657|    null|179861.9035491287|       null|833883.1040744764| 855113.6685785812|       null|1100701.6665196533|1224996.3982019224|0.001290820448180152| 2.51468734577894E-6|\n",
      "| stddev|142.33197104913066|    null|603858.2314629209|       null|2888242.673037527|2924048.5029542595|       null|3399180.1129944525|3674128.9421196915|0.035904796801604424|0.001585774705736...|\n",
      "|    min|                 1| CASH_IN|              0.0|C1000000639|              0.0|               0.0|C1000004082|               0.0|               0.0|                   0|                   0|\n",
      "|    max|               743|TRANSFER|    9.244551664E7| C999999784|    5.958504037E7|     4.958504037E7| M999999784|    3.5601588935E8|    3.5617927892E8|                   1|                   1|\n",
      "+-------+------------------+--------+-----------------+-----------+-----------------+------------------+-----------+------------------+------------------+--------------------+--------------------+\n",
      "\n"
     ]
    }
   ],
   "source": [
    "# Afficher des statistiques descriptives pour toutes les colonnes numériques\n",
    "data_detection.describe().show()"
   ]
  },
  {
   "cell_type": "code",
   "execution_count": 9,
   "id": "29d38a33",
   "metadata": {},
   "outputs": [
    {
     "name": "stderr",
     "output_type": "stream",
     "text": [
      "[Stage 14:===========================================>              (3 + 1) / 4]\r"
     ]
    },
    {
     "name": "stdout",
     "output_type": "stream",
     "text": [
      "+-------+-------+\n",
      "|isFraud|  count|\n",
      "+-------+-------+\n",
      "|      1|   8213|\n",
      "|      0|6354407|\n",
      "+-------+-------+\n",
      "\n"
     ]
    },
    {
     "name": "stderr",
     "output_type": "stream",
     "text": [
      "\r",
      "                                                                                \r"
     ]
    }
   ],
   "source": [
    "from pyspark.sql.functions import count\n",
    "\n",
    "# Grouper les données par la variable isFraud\n",
    "grouped_df = data_detection.groupBy('isFraud')\n",
    "\n",
    "# Compter le nombre de fraudes et de transactions normales\n",
    "count_df = grouped_df.agg(count('*').alias('count'))\n",
    "\n",
    "# Afficher les résultats\n",
    "count_df.show()\n"
   ]
  },
  {
   "cell_type": "code",
   "execution_count": 10,
   "id": "00a0fdb4",
   "metadata": {},
   "outputs": [
    {
     "name": "stderr",
     "output_type": "stream",
     "text": [
      "                                                                                \r"
     ]
    }
   ],
   "source": [
    "import seaborn as sns\n",
    "import matplotlib.pyplot as plt\n",
    "import pandas as pd\n",
    "# Comptage des fraudes\n",
    "fraud_count = data_detection.filter(data_detection.isFraud == 1).count()\n",
    "\n",
    "# Comptage des non-fraudes\n",
    "not_fraud_count = data_detection.filter(data_detection.isFraud == 0).count()\n"
   ]
  },
  {
   "cell_type": "code",
   "execution_count": 11,
   "id": "7ae3395b",
   "metadata": {},
   "outputs": [],
   "source": [
    "# Création d'un DataFrame pandas avec les données de comptage\n",
    "fraud_data = pd.DataFrame({'Fraud': fraud_count, 'Not Fraud': not_fraud_count}, index=['Count'])\n"
   ]
  },
  {
   "cell_type": "code",
   "execution_count": 12,
   "id": "a1b1c2be",
   "metadata": {},
   "outputs": [
    {
     "data": {
      "text/html": [
       "<div>\n",
       "<style scoped>\n",
       "    .dataframe tbody tr th:only-of-type {\n",
       "        vertical-align: middle;\n",
       "    }\n",
       "\n",
       "    .dataframe tbody tr th {\n",
       "        vertical-align: top;\n",
       "    }\n",
       "\n",
       "    .dataframe thead th {\n",
       "        text-align: right;\n",
       "    }\n",
       "</style>\n",
       "<table border=\"1\" class=\"dataframe\">\n",
       "  <thead>\n",
       "    <tr style=\"text-align: right;\">\n",
       "      <th></th>\n",
       "      <th>Fraud</th>\n",
       "      <th>Not Fraud</th>\n",
       "    </tr>\n",
       "  </thead>\n",
       "  <tbody>\n",
       "    <tr>\n",
       "      <th>Count</th>\n",
       "      <td>8213</td>\n",
       "      <td>6354407</td>\n",
       "    </tr>\n",
       "  </tbody>\n",
       "</table>\n",
       "</div>"
      ],
      "text/plain": [
       "       Fraud  Not Fraud\n",
       "Count   8213    6354407"
      ]
     },
     "execution_count": 12,
     "metadata": {},
     "output_type": "execute_result"
    }
   ],
   "source": [
    "fraud_data"
   ]
  },
  {
   "cell_type": "code",
   "execution_count": 13,
   "id": "9b21ffa1",
   "metadata": {},
   "outputs": [],
   "source": [
    "fraud_data = pd.DataFrame({\n",
    "    'Label': ['Fraud', 'Not Fraud'],\n",
    "    'Count': [fraud_count, not_fraud_count]\n",
    "})\n"
   ]
  },
  {
   "cell_type": "code",
   "execution_count": 14,
   "id": "2d3726bb",
   "metadata": {},
   "outputs": [
    {
     "data": {
      "image/png": "[encoded data removed]",
      "text/plain": [
       "<Figure size 640x480 with 1 Axes>"
      ]
     },
     "metadata": {},
     "output_type": "display_data"
    }
   ],
   "source": [
    "sns.barplot(x='Label', y='Count', data=fraud_data)\n",
    "plt.ylabel('Count')\n",
    "plt.show()\n"
   ]
  },
  {
   "cell_type": "code",
   "execution_count": 15,
   "id": "452cc299",
   "metadata": {},
   "outputs": [
    {
     "name": "stderr",
     "output_type": "stream",
     "text": [
      "                                                                                \r"
     ]
    },
    {
     "name": "stdout",
     "output_type": "stream",
     "text": [
      "+--------+-------+\n",
      "|    type|  count|\n",
      "+--------+-------+\n",
      "|CASH_OUT|2237500|\n",
      "| PAYMENT|2151495|\n",
      "| CASH_IN|1399284|\n",
      "|TRANSFER| 532909|\n",
      "|   DEBIT|  41432|\n",
      "+--------+-------+\n",
      "\n"
     ]
    },
    {
     "name": "stderr",
     "output_type": "stream",
     "text": [
      "                                                                                \r"
     ]
    },
    {
     "data": {
      "image/png": "[encoded data removed]",
      "text/plain": [
       "<Figure size 640x480 with 1 Axes>"
      ]
     },
     "metadata": {},
     "output_type": "display_data"
    }
   ],
   "source": [
    "# Count number of data point in each type of transaction\n",
    "type_counts = data_detection.groupBy('type').agg(count('type').alias('count')).orderBy('count', ascending=False)\n",
    "type_counts.show()\n",
    "\n",
    "# Plot a bar graph to visualize the count of each type of transaction\n",
    "fig, ax = plt.subplots()\n",
    "ax.bar(type_counts.toPandas()['type'], type_counts.toPandas()['count'])\n",
    "ax.set_xlabel('Transaction Type')\n",
    "ax.set_ylabel('Count')\n",
    "ax.set_title('Number of data points in each type of transaction')\n",
    "plt.show()\n"
   ]
  },
  {
   "cell_type": "code",
   "execution_count": 16,
   "id": "3aeaf07b",
   "metadata": {},
   "outputs": [
    {
     "name": "stderr",
     "output_type": "stream",
     "text": [
      "[Stage 37:===========================================>              (3 + 1) / 4]\r"
     ]
    },
    {
     "name": "stdout",
     "output_type": "stream",
     "text": [
      "+--------+----------+-----------------+\n",
      "|    type|TotalFraud|TotalFlaggedFraud|\n",
      "+--------+----------+-----------------+\n",
      "|TRANSFER|      4097|               16|\n",
      "| CASH_IN|         0|                0|\n",
      "|CASH_OUT|      4116|                0|\n",
      "| PAYMENT|         0|                0|\n",
      "|   DEBIT|         0|                0|\n",
      "+--------+----------+-----------------+\n",
      "\n"
     ]
    },
    {
     "name": "stderr",
     "output_type": "stream",
     "text": [
      "\r",
      "                                                                                \r"
     ]
    }
   ],
   "source": [
    "from pyspark.sql.functions import sum\n",
    "\n",
    "# Group by type and sum the isFraud and isFlaggedFraud columns\n",
    "df_grouped = data_detection.groupBy('type').agg(sum('isFraud').alias('TotalFraud'), sum('isFlaggedFraud').alias('TotalFlaggedFraud'))\n",
    "\n",
    "# Show the resulting DataFrame\n",
    "df_grouped.show()\n"
   ]
  },
  {
   "cell_type": "markdown",
   "id": "b3ab46e8",
   "metadata": {},
   "source": [
    "La fraude ne se produit que dans 2 types de transactions :\n",
    "TRANSFERT et CASH_OUT\n",
    "=>Le nombre de VIREMENTS frauduleux = 4097\n",
    "=>Le nombre de CASH_OUTs frauduleux = 4116.\n"
   ]
  },
  {
   "cell_type": "code",
   "execution_count": 20,
   "id": "14bacf4a",
   "metadata": {},
   "outputs": [],
   "source": [
    "from pyspark.sql.functions import col\n",
    "\n",
    "# Création d'une copie du DataFrame df\n",
    "data = data_detection.select([col(c).alias(c) for c in data_detection.columns])\n"
   ]
  },
  {
   "cell_type": "code",
   "execution_count": 30,
   "id": "38d43a92",
   "metadata": {},
   "outputs": [
    {
     "name": "stderr",
     "output_type": "stream",
     "text": [
      "[Stage 44:>                                                         (0 + 1) / 1]\r"
     ]
    },
    {
     "name": "stdout",
     "output_type": "stream",
     "text": [
      "+-----------+\n",
      "|   nameOrig|\n",
      "+-----------+\n",
      "| C100021340|\n",
      "|C1000262126|\n",
      "|C1000502024|\n",
      "|C1000507192|\n",
      "|C1000547990|\n",
      "|C1000570608|\n",
      "|C1000809646|\n",
      "|C1001563842|\n",
      "|C1001939515|\n",
      "|C1003046006|\n",
      "|C1003046870|\n",
      "|C1003149650|\n",
      "|C1003164154|\n",
      "|C1003434016|\n",
      "|  C10037801|\n",
      "|C1004267694|\n",
      "|C1004511598|\n",
      "|C1005206689|\n",
      "|C1005557457|\n",
      "|C1005826701|\n",
      "+-----------+\n",
      "only showing top 20 rows\n",
      "\n"
     ]
    },
    {
     "name": "stderr",
     "output_type": "stream",
     "text": [
      "\r",
      "                                                                                \r"
     ]
    }
   ],
   "source": [
    "# Obtention des valeurs uniques de la colonne \"gender\"\n",
    "unique_genders = data.select(col(\"nameOrig\")).distinct()\n",
    "\n",
    "# Affichage des valeurs uniques\n",
    "unique_genders.show()\n"
   ]
  },
  {
   "cell_type": "code",
   "execution_count": 34,
   "id": "3ca3b8ce",
   "metadata": {},
   "outputs": [],
   "source": [
    "from pyspark.sql.functions import when\n",
    "\n",
    "data = data.withColumn('TRANSFER', when(data['type'] == 'TRANSFER', 1).otherwise(0))\n",
    "data = data.withColumn('CASH_OUT', when(data['type'] == 'CASH_OUT', 1).otherwise(0))\n"
   ]
  },
  {
   "cell_type": "code",
   "execution_count": null,
   "id": "8efaac8e",
   "metadata": {},
   "outputs": [],
   "source": [
    "# Merchant flag for source and dist\n",
    "data['OrigC']=data['nameOrig'].withColumn(lambda x: 1 if str(x).find('C')==0 else 0)\n",
    "data['DestC']=data['nameDest'].withColumn(lambda x: 1 if str(x).find('C')==0 else 0)"
   ]
  },
  {
   "cell_type": "markdown",
   "id": "1b1e8390",
   "metadata": {},
   "source": [
    "# methode smote\n"
   ]
  },
  {
   "cell_type": "code",
   "execution_count": null,
   "id": "e07fefc6",
   "metadata": {},
   "outputs": [],
   "source": []
  }
 ],
 "metadata": {
  "kernelspec": {
   "display_name": "Python 3 (ipykernel)",
   "language": "python",
   "name": "python3"
  },
  "language_info": {
   "codemirror_mode": {
    "name": "ipython",
    "version": 3
   },
   "file_extension": ".py",
   "mimetype": "text/x-python",
   "name": "python",
   "nbconvert_exporter": "python",
   "pygments_lexer": "ipython3",
   "version": "3.10.9"
  }
 },
 "nbformat": 4,
 "nbformat_minor": 5
}
